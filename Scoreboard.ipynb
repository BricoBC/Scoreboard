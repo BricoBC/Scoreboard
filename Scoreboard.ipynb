{
  "cells": [
    {
      "cell_type": "markdown",
      "metadata": {
        "colab_type": "text",
        "id": "view-in-github"
      },
      "source": [
        "<a href=\"https://colab.research.google.com/github/BricoBC/Scoreboard/blob/main/Scoreboard.ipynb\" target=\"_parent\"><img src=\"https://colab.research.google.com/assets/colab-badge.svg\" alt=\"Open In Colab\"/></a>"
      ]
    },
    {
      "cell_type": "markdown",
      "metadata": {
        "id": "wHiC7xEIp2V5"
      },
      "source": [
        "## Generar tablas"
      ]
    },
    {
      "cell_type": "code",
      "execution_count": null,
      "metadata": {
        "id": "VE_HgYmPpwY4"
      },
      "outputs": [],
      "source": [
        "clk = 0\n",
        "tabla_estado_instrucciones = [['INST', 'i', 'j', 'k', 'FI', 'FO', 'EI', 'WO']]\n",
        "total_instrucctions = 0\n",
        "\n",
        "##Tabla ESTADO DE INSTRUCCIONES\n",
        "print(\"Estado de instrucciones\")\n",
        "total_instrucctions = int(input(\"¿Cuántas instrucciones se van a hacer? \"))\n",
        "for instruccion in range(total_instrucctions):\n",
        "  INST = input('¿Cuál instruccion quieres hacer? ')\n",
        "  i = input('¿Cuál es el registro destino? ').upper()\n",
        "  j = input('¿Cuál es el registro fuente (j)? ').upper()\n",
        "  k = input('¿Cuál es el registro fuente (k)? ').upper()\n",
        "  tabla_estado_instrucciones.extend([[INST, i, j, k, ' ',' ',' ',' ']])\n",
        "print(tabla_estado_instrucciones)\n",
        "\n",
        "tabla_estado_unidades_funcionales = [['FU', 'B', 'Op', 'i', 'j', 'k', 'Qj', 'Qk', 'Rj', 'Rk']]\n",
        "##Tabla ESTADO DE UNIDADES FUNCIONALES\n",
        "print(\"Estado de unidades funcionales\")\n",
        "total_operaciones = int(input(\"¿Cuántas operaciones se van a hacer? \"))\n",
        "for operacion in range(total_operaciones):\n",
        "  time = input(f'Cuánto es el tiempo de la operación? {operacion + 1} ')\n",
        "  operacion = input(f'Cuál operación quieres hacer {operacion + 1}: ').upper()\n",
        "  FU = f'({time}){operacion}'\n",
        "  \n",
        "  tabla_estado_unidades_funcionales.extend([[FU,' ',' ',' ',' ',' ',' ',' ',' ',' ']])\n",
        "print(tabla_estado_unidades_funcionales)\n",
        "\n",
        "tabla_estado_registros = []\n",
        "##ESTADO DE REGISTROS DE RESULTADOS\n",
        "print(\"Estado de registros de resultados\")\n",
        "import re\n",
        "menor = 0\n",
        "mayor = 0\n",
        "i = 0\n",
        "#Se hace el recorrido de las filas de la tabla estado de instruicciones\n",
        "for f in range(total_instrucctions + 1):\n",
        "  #Se hace el recorrido de la columna i,j,k de la tabla estado de instruicciones\n",
        "  for c in range(1,4):  \n",
        "    match = re.search(r'F?(\\d+)', tabla_estado_instrucciones[f][c])\n",
        "    if match: #Aquí hace la validación de que realmente encontró por la regex\n",
        "      if int(match.group(1)) > int(mayor):\n",
        "        mayor = int(match.group(1))\n",
        "tabla_estado_registros = []\n",
        "for i in range(mayor+1):\n",
        "  tabla_estado_registros.append([[f'F{i}'],['']])\n",
        "print(tabla_estado_registros)\n",
        "\n",
        "clk +=1 \n"
      ]
    }
  ],
  "metadata": {
    "colab": {
      "authorship_tag": "ABX9TyOYlwBa7UaHCxafoPCcp+c+",
      "include_colab_link": true,
      "provenance": []
    },
    "kernelspec": {
      "display_name": "Python 3",
      "name": "python3"
    },
    "language_info": {
      "codemirror_mode": {
        "name": "ipython",
        "version": 3
      },
      "file_extension": ".py",
      "mimetype": "text/x-python",
      "name": "python",
      "nbconvert_exporter": "python",
      "pygments_lexer": "ipython3",
      "version": "3.8.10"
    }
  },
  "nbformat": 4,
  "nbformat_minor": 0
}
