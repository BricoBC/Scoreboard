{
  "cells": [
    {
      "cell_type": "markdown",
      "metadata": {
        "colab_type": "text",
        "id": "view-in-github"
      },
      "source": [
        "<a href=\"https://colab.research.google.com/github/BricoBC/Scoreboard/blob/main/Scoreboard.ipynb\" target=\"_parent\"><img src=\"https://colab.research.google.com/assets/colab-badge.svg\" alt=\"Open In Colab\"/></a>"
      ]
    },
    {
      "cell_type": "markdown",
      "metadata": {
        "id": "wHiC7xEIp2V5"
      },
      "source": [
        "## Generar tablas"
      ]
    },
    {
      "cell_type": "code",
      "execution_count": 2,
      "metadata": {
        "id": "VE_HgYmPpwY4"
      },
      "outputs": [
        {
          "name": "stdout",
          "output_type": "stream",
          "text": [
            "Estado de instrucciones\n",
            "[['INST', 'i', 'j', 'k', 'FI', 'FO', 'EI', 'WO'], ['LF', 'F2', 'F3', '', '', '', '', ''], ['', '', '', '', '', '', '', '']]\n",
            "Estado de unidades funcionales\n"
          ]
        },
        {
          "ename": "ValueError",
          "evalue": "invalid literal for int() with base 10: ''",
          "output_type": "error",
          "traceback": [
            "\u001b[0;31m---------------------------------------------------------------------------\u001b[0m",
            "\u001b[0;31mValueError\u001b[0m                                Traceback (most recent call last)",
            "\u001b[1;32m/home/brico/devel/School/Scoreboard/Scoreboard.ipynb Cell 3'\u001b[0m in \u001b[0;36m<cell line: 19>\u001b[0;34m()\u001b[0m\n\u001b[1;32m     <a href='vscode-notebook-cell://wsl%2Bubuntu/home/brico/devel/School/Scoreboard/Scoreboard.ipynb#ch0000002vscode-remote?line=16'>17</a>\u001b[0m \u001b[39m##ESTADO DE UNIDADES FUNCIONALES\u001b[39;00m\n\u001b[1;32m     <a href='vscode-notebook-cell://wsl%2Bubuntu/home/brico/devel/School/Scoreboard/Scoreboard.ipynb#ch0000002vscode-remote?line=17'>18</a>\u001b[0m \u001b[39mprint\u001b[39m(\u001b[39m\"\u001b[39m\u001b[39mEstado de unidades funcionales\u001b[39m\u001b[39m\"\u001b[39m)\n\u001b[0;32m---> <a href='vscode-notebook-cell://wsl%2Bubuntu/home/brico/devel/School/Scoreboard/Scoreboard.ipynb#ch0000002vscode-remote?line=18'>19</a>\u001b[0m total_operaciones \u001b[39m=\u001b[39m \u001b[39mint\u001b[39;49m(\u001b[39minput\u001b[39;49m(\u001b[39m\"\u001b[39;49m\u001b[39m¿Cuántas operaciones se van a hacer? \u001b[39;49m\u001b[39m\"\u001b[39;49m))\n\u001b[1;32m     <a href='vscode-notebook-cell://wsl%2Bubuntu/home/brico/devel/School/Scoreboard/Scoreboard.ipynb#ch0000002vscode-remote?line=19'>20</a>\u001b[0m \u001b[39mfor\u001b[39;00m operacion \u001b[39min\u001b[39;00m \u001b[39mrange\u001b[39m(total_operaciones):\n\u001b[1;32m     <a href='vscode-notebook-cell://wsl%2Bubuntu/home/brico/devel/School/Scoreboard/Scoreboard.ipynb#ch0000002vscode-remote?line=20'>21</a>\u001b[0m   time \u001b[39m=\u001b[39m \u001b[39minput\u001b[39m(\u001b[39mf\u001b[39m\u001b[39m'\u001b[39m\u001b[39mCuánto es el tiempo de la operación? \u001b[39m\u001b[39m{\u001b[39;00moperacion \u001b[39m+\u001b[39m \u001b[39m1\u001b[39m\u001b[39m}\u001b[39;00m\u001b[39m \u001b[39m\u001b[39m'\u001b[39m)\n",
            "\u001b[0;31mValueError\u001b[0m: invalid literal for int() with base 10: ''"
          ]
        }
      ],
      "source": [
        "clk = 0\n",
        "tabla_estado_instrucciones = [['INST', 'i', 'j', 'k', 'FI', 'FO', 'EI', 'WO']]\n",
        "total_instrucctions = 0\n",
        "\n",
        "##ESTADO DE INSTRUCCIONES\n",
        "print(\"Estado de instrucciones\")\n",
        "total_instrucctions = int(input(\"¿Cuántas instrucciones se van a hacer? \"))\n",
        "for instruccion in range(total_instrucctions):\n",
        "  INST = input('¿Cuál instruccion quieres hacer? ')\n",
        "  i = input('¿Cuál es el registro destino? ')\n",
        "  j = input('¿Cuál es el registro fuente (j)? ')\n",
        "  k = input('¿Cuál es el registro fuente (k)? ')\n",
        "  tabla_estado_instrucciones.extend([[INST, i, j, k, '','','','']])\n",
        "print(tabla_estado_instrucciones)\n",
        "\n",
        "tabla_estado_unidades_funcionales = [['FU', 'B', 'Op', 'i', 'j', 'k', 'Qj', 'Qk', 'Rj', 'Rk']]\n",
        "##ESTADO DE UNIDADES FUNCIONALES\n",
        "print(\"Estado de unidades funcionales\")\n",
        "total_operaciones = int(input(\"¿Cuántas operaciones se van a hacer? \"))\n",
        "for operacion in range(total_operaciones):\n",
        "  time = input(f'Cuánto es el tiempo de la operación? {operacion + 1} ')\n",
        "  operacion = input(f'Cuál operación quieres hacer {operacion + 1}: ')\n",
        "  FU = f'({time}){operacion}'\n",
        "  \n",
        "  tabla_estado_unidades_funcionales.extend([[FU,'','','','','','','','','']])\n",
        "print(tabla_estado_unidades_funcionales)\n",
        "\n",
        "tabla_estado_registros = []\n",
        "##ESTADO DE REGISTROS DE RESULTADOS\n",
        "print(\"Estado de registros de resultados\")\n",
        "import re\n",
        "menor = 0\n",
        "mayor = 0\n",
        "i = 0\n",
        "for f in range(total_instrucctions + 1):\n",
        "  for c in range(1,4):  \n",
        "    match = re.search(r'F\\d+', tabla_estado_instrucciones[f][c])\n",
        "    if match: #Aquí hace la validación de que realmente encontró por la regex\n",
        "      if int(match.group()[1:]) > int(mayor):\n",
        "        mayor = int(match.group()[1:])\n",
        "tabla_estado_registros = []\n",
        "for i in range(mayor+1):\n",
        "  tabla_estado_registros.append([[f'F{i}'],['']])\n",
        "print(tabla_estado_registros)\n",
        "\n",
        "def set_incrementar_clk():\n",
        "  clk = clk + 1\n",
        "\n"
      ]
    }
  ],
  "metadata": {
    "colab": {
      "authorship_tag": "ABX9TyOYlwBa7UaHCxafoPCcp+c+",
      "include_colab_link": true,
      "provenance": []
    },
    "kernelspec": {
      "display_name": "Python 3",
      "name": "python3"
    },
    "language_info": {
      "codemirror_mode": {
        "name": "ipython",
        "version": 3
      },
      "file_extension": ".py",
      "mimetype": "text/x-python",
      "name": "python",
      "nbconvert_exporter": "python",
      "pygments_lexer": "ipython3",
      "version": "3.8.10"
    }
  },
  "nbformat": 4,
  "nbformat_minor": 0
}
