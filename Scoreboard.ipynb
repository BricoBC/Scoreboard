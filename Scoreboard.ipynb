{
  "nbformat": 4,
  "nbformat_minor": 0,
  "metadata": {
    "colab": {
      "provenance": [],
      "authorship_tag": "ABX9TyOxYgVwglybekvnwdBxoejz",
      "include_colab_link": true
    },
    "kernelspec": {
      "name": "python3",
      "display_name": "Python 3"
    },
    "language_info": {
      "name": "python"
    }
  },
  "cells": [
    {
      "cell_type": "markdown",
      "metadata": {
        "id": "view-in-github",
        "colab_type": "text"
      },
      "source": [
        "<a href=\"https://colab.research.google.com/github/BricoBC/Scoreboard/blob/proceso/Scoreboard.ipynb\" target=\"_parent\"><img src=\"https://colab.research.google.com/assets/colab-badge.svg\" alt=\"Open In Colab\"/></a>"
      ]
    },
    {
      "cell_type": "markdown",
      "source": [
        "## Generar tablas"
      ],
      "metadata": {
        "id": "wHiC7xEIp2V5"
      }
    },
    {
      "cell_type": "code",
      "execution_count": null,
      "metadata": {
        "id": "VE_HgYmPpwY4",
        "colab": {
          "base_uri": "https://localhost:8080/"
        },
        "outputId": "65dc9589-0257-4b43-c1b0-6735b403187d"
      },
      "outputs": [
        {
          "output_type": "stream",
          "name": "stdout",
          "text": [
            "Estado de instrucciones\n",
            "¿Cuántas instrucciones se van a hacer? 6\n",
            "¿Cuál instruccion quieres hacer? LF\n",
            "¿Cuál es el registro destino? F4\n",
            "¿Cuál es el registro fuente (j)? +3\n",
            "¿Cuál es el registro fuente (k)? R3\n",
            "¿Cuál instruccion quieres hacer? LF\n",
            "¿Cuál es el registro destino? F0\n",
            "¿Cuál es el registro fuente (j)? +18\n",
            "¿Cuál es el registro fuente (k)? R6\n",
            "¿Cuál instruccion quieres hacer? ADDF\n",
            "¿Cuál es el registro destino? F7\n",
            "¿Cuál es el registro fuente (j)? F0\n",
            "¿Cuál es el registro fuente (k)? F4\n",
            "¿Cuál instruccion quieres hacer? MULTF\n",
            "¿Cuál es el registro destino? F3\n",
            "¿Cuál es el registro fuente (j)? F4\n",
            "¿Cuál es el registro fuente (k)? F7\n",
            "¿Cuál instruccion quieres hacer? DIVF\n",
            "¿Cuál es el registro destino? F5\n",
            "¿Cuál es el registro fuente (j)? F0\n",
            "¿Cuál es el registro fuente (k)? F9\n",
            "¿Cuál instruccion quieres hacer? SUBF\n",
            "¿Cuál es el registro destino? F3\n",
            "¿Cuál es el registro fuente (j)? F7\n",
            "¿Cuál es el registro fuente (k)? F5\n",
            "[['INST', 'i', 'j', 'k', 'FI', 'FO', 'EI', 'WO'], ['LF', 'F4', '+3', 'R3', '', '', '', ''], ['LF', 'F0', '+18', 'R6', '', '', '', ''], ['ADDF', 'F7', 'F0', 'F4', '', '', '', ''], ['MULTF', 'F3', 'F4', 'F7', '', '', '', ''], ['DIVF', 'F5', 'F0', 'F9', '', '', '', ''], ['SUBF', 'F3', 'F7', 'F5', '', '', '', '']]\n",
            "Estado de unidades funcionales\n",
            "¿Cuántas operaciones se van a hacer? 5\n",
            "Cuánto es el tiempo de la operación? 1 1\n",
            "Cuál operación quieres hacer 1: LOAD1\n",
            "Cuánto es el tiempo de la operación? 2 3\n",
            "Cuál operación quieres hacer 2: ADDER1\n",
            "Cuánto es el tiempo de la operación? 3 3\n",
            "Cuál operación quieres hacer 3: ADDER2\n",
            "Cuánto es el tiempo de la operación? 4 12\n",
            "Cuál operación quieres hacer 4: MULT1\n",
            "Cuánto es el tiempo de la operación? 5 30\n",
            "Cuál operación quieres hacer 5: DIV\n",
            "[['FU', 'B', 'Op', 'i', 'j', 'k', 'Qj', 'Qk', 'Rj', 'Rk'], ['(1)LOAD1', '', '', '', '', '', '', '', '', ''], ['(3)ADDER1', '', '', '', '', '', '', '', '', ''], ['(3)ADDER2', '', '', '', '', '', '', '', '', ''], ['(12)MULT1', '', '', '', '', '', '', '', '', ''], ['(30)DIV', '', '', '', '', '', '', '', '', '']]\n",
            "Estado de registros de resultados\n",
            "[[['F0'], ['']], [['F1'], ['']], [['F2'], ['']], [['F3'], ['']], [['F4'], ['']], [['F5'], ['']], [['F6'], ['']], [['F7'], ['']], [['F8'], ['']], [['F9'], ['']]]\n"
          ]
        }
      ],
      "source": [
        "clk = 0\n",
        "tabla_estado_instrucciones = [['INST', 'i', 'j', 'k', 'FI', 'FO', 'EI', 'WO']]\n",
        "total_instrucctions = 0\n",
        "\n",
        "##Tabla ESTADO DE INSTRUCCIONES\n",
        "print(\"Estado de instrucciones\")\n",
        "total_instrucctions = int(input(\"¿Cuántas instrucciones se van a hacer? \"))\n",
        "for instruccion in range(total_instrucctions):\n",
        "  INST = input('¿Cuál instruccion quieres hacer? ')\n",
        "  i = input('¿Cuál es el registro destino? ').upper()\n",
        "  j = input('¿Cuál es el registro fuente (j)? ').upper()\n",
        "  k = input('¿Cuál es el registro fuente (k)? ').upper()\n",
        "  tabla_estado_instrucciones.extend([[INST, i, j, k, ' ',' ',' ',' ']])\n",
        "print(tabla_estado_instrucciones)\n",
        "\n",
        "tabla_estado_unidades_funcionales = [['FU', 'B', 'Op', 'i', 'j', 'k', 'Qj', 'Qk', 'Rj', 'Rk']]\n",
        "##Tabla ESTADO DE UNIDADES FUNCIONALES\n",
        "print(\"Estado de unidades funcionales\")\n",
        "total_operaciones = int(input(\"¿Cuántas operaciones se van a hacer? \"))\n",
        "for operacion in range(total_operaciones):\n",
        "  time = input(f'Cuánto es el tiempo de la operación? {operacion + 1} ')\n",
        "  operacion = input(f'Cuál operación quieres hacer {operacion + 1}: ').upper()\n",
        "  FU = f'({time}){operacion}'\n",
        "  \n",
        "  tabla_estado_unidades_funcionales.extend([[FU,' ',' ',' ',' ',' ',' ',' ',' ',' ']])\n",
        "print(tabla_estado_unidades_funcionales)\n",
        "\n",
        "tabla_estado_registros = []\n",
        "##ESTADO DE REGISTROS DE RESULTADOS\n",
        "print(\"Estado de registros de resultados\")\n",
        "import re\n",
        "menor = 0\n",
        "mayor = 0\n",
        "i = 0\n",
        "#Se hace el recorrido de las filas de la tabla estado de instruicciones\n",
        "for f in range(total_instrucctions + 1):\n",
        "  #Se hace el recorrido de la columna i,j,k de la tabla estado de instruicciones\n",
        "  for c in range(1,4):  \n",
        "    match = re.search(r'F?(\\d+)', tabla_estado_instrucciones[f][c])\n",
        "    if match: #Aquí hace la validación de que realmente encontró por la regex\n",
        "      if int(match.group(1)) > int(mayor):\n",
        "        mayor = int(match.group(1))\n",
        "tabla_estado_registros = []\n",
        "for i in range(mayor+1):\n",
        "  tabla_estado_registros.append([[f'F{i}'],['']])\n",
        "print(tabla_estado_registros)\n",
        "\n",
        "clk +=1 \n"
      ]
    },
    {
      "cell_type": "markdown",
      "source": [
        "#PROCESO"
      ],
      "metadata": {
        "id": "5Opbi9b9rb6w"
      }
    },
    {
      "cell_type": "code",
      "source": [
        "match = re.search(r'\\(\\d+\\)([A-Z]+)', tabla_estado_unidades_funcionales[1][0])\n",
        "#La regex es para que encuentre el patro de (<numero>)<LETRA>\n",
        "if match.group(1)[0] == tabla_estado_instrucciones[1][0][0]:\n",
        "  print(f\"Misma operacion en {tabla_estado_instrucciones[1][0]} con {match.group(1)}\")\n",
        "else :\n",
        "  print(\"No es la misma operacion\")"
      ],
      "metadata": {
        "colab": {
          "base_uri": "https://localhost:8080/"
        },
        "id": "Rx9SIQ43skJC",
        "outputId": "7f9d2eb3-6597-422c-e531-f83c210cf226"
      },
      "execution_count": null,
      "outputs": [
        {
          "output_type": "stream",
          "name": "stdout",
          "text": [
            "Misma operacion en LF con LOAD\n"
          ]
        }
      ]
    }
  ]
}